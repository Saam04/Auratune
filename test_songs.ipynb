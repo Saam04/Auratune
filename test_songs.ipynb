{
 "cells": [
  {
   "cell_type": "code",
   "execution_count": 1,
   "metadata": {},
   "outputs": [],
   "source": [
    "import pandas as pd"
   ]
  },
  {
   "cell_type": "code",
   "execution_count": 9,
   "metadata": {},
   "outputs": [],
   "source": [
    "df = pd.read_csv(\"C:/New D Drive folder/Sumit Boddu/projects/Auratune/songs_dataset.csv\")"
   ]
  },
  {
   "cell_type": "code",
   "execution_count": 12,
   "metadata": {},
   "outputs": [
    {
     "name": "stdout",
     "output_type": "stream",
     "text": [
      "                 title      artist genre  bpm  \\\n",
      "0         Shape of You  Ed Sheeran   Pop   96   \n",
      "1      Blinding Lights  The Weeknd   R&B  171   \n",
      "2  Rolling in the Deep       Adele  Soul  105   \n",
      "3     Someone Like You       Adele  Soul   67   \n",
      "4           Levitating    Dua Lipa   Pop  103   \n",
      "\n",
      "                                      lyrics  \n",
      "0   The club isn't the best place to find...  \n",
      "1  I said, ooh, I'm blinded by the lights...  \n",
      "2     There's a fire starting in my heart...  \n",
      "3   Nevermind, I'll find someone like you...  \n",
      "4           If you wanna run away with me...  \n"
     ]
    }
   ],
   "source": [
    "print(df.head())"
   ]
  },
  {
   "cell_type": "code",
   "execution_count": 13,
   "metadata": {},
   "outputs": [
    {
     "name": "stdout",
     "output_type": "stream",
     "text": [
      "<class 'pandas.core.frame.DataFrame'>\n",
      "RangeIndex: 15 entries, 0 to 14\n",
      "Data columns (total 5 columns):\n",
      " #   Column  Non-Null Count  Dtype \n",
      "---  ------  --------------  ----- \n",
      " 0   title   15 non-null     object\n",
      " 1   artist  15 non-null     object\n",
      " 2   genre   15 non-null     object\n",
      " 3   bpm     15 non-null     int64 \n",
      " 4   lyrics  15 non-null     object\n",
      "dtypes: int64(1), object(4)\n",
      "memory usage: 732.0+ bytes\n",
      "None\n"
     ]
    }
   ],
   "source": [
    "print(df.info())"
   ]
  },
  {
   "cell_type": "code",
   "execution_count": null,
   "metadata": {},
   "outputs": [],
   "source": []
  }
 ],
 "metadata": {
  "kernelspec": {
   "display_name": "base",
   "language": "python",
   "name": "python3"
  },
  "language_info": {
   "codemirror_mode": {
    "name": "ipython",
    "version": 3
   },
   "file_extension": ".py",
   "mimetype": "text/x-python",
   "name": "python",
   "nbconvert_exporter": "python",
   "pygments_lexer": "ipython3",
   "version": "3.11.5"
  }
 },
 "nbformat": 4,
 "nbformat_minor": 2
}
